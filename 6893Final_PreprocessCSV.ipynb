{
 "cells": [
  {
   "cell_type": "code",
   "execution_count": 92,
   "id": "d0e3c359",
   "metadata": {},
   "outputs": [],
   "source": [
    "import pickle"
   ]
  },
  {
   "cell_type": "code",
   "execution_count": 93,
   "id": "c51053ac",
   "metadata": {},
   "outputs": [],
   "source": [
    "extracted = []\n",
    "with open('./6893/match_info41k_Nov20.pkl', 'rb') as file:\n",
    "    extracted = pickle.load(file)"
   ]
  },
  {
   "cell_type": "markdown",
   "id": "534f44e4",
   "metadata": {},
   "source": [
    "##### Run them separately "
   ]
  },
  {
   "cell_type": "code",
   "execution_count": null,
   "id": "1cbd7f76",
   "metadata": {},
   "outputs": [],
   "source": [
    "with open('./6893/FLEXSR_matche_info_save14k_Nov22.pkl', 'rb') as file:\n",
    "    extracted = pickle.load(file)"
   ]
  },
  {
   "cell_type": "code",
   "execution_count": 94,
   "id": "440f5691",
   "metadata": {},
   "outputs": [
    {
     "data": {
      "text/plain": [
       "2"
      ]
     },
     "execution_count": 94,
     "metadata": {},
     "output_type": "execute_result"
    }
   ],
   "source": [
    "len(extracted)"
   ]
  },
  {
   "cell_type": "markdown",
   "id": "a07363fc",
   "metadata": {},
   "source": [
    "# Generate Column Names"
   ]
  },
  {
   "cell_type": "code",
   "execution_count": 95,
   "id": "b01bce44",
   "metadata": {},
   "outputs": [],
   "source": [
    "import csv\n",
    "import pandas as pd"
   ]
  },
  {
   "cell_type": "code",
   "execution_count": 96,
   "id": "071436bf",
   "metadata": {},
   "outputs": [],
   "source": [
    "column_names = ['gameId', 'winner', 'firstBlood', 'firstTower', 'firstInhibitor', 'firstBaron', 'firstDragon', 'firstRiftHerald', 't1_champ1Name', 't1_champ2Name', 't1_champ3Name', 't1_champ4Name', 't1_champ5Name', 't1_towerKills', 't1_inhibitorKills', 't1_baronKills', 't1_dragonKills', 't1_riftHeraldKills', 't1_totalGold', 't1_totalLevel', 't1_avgLevel', 't1_totalMinionKills', 't1_totalJungleMinionKills', 't1_totalKills', 't1_totalDeath', 't1_totalAssist', 't2_champ1Name', 't2_champ2Name', 't2_champ3Name', 't2_champ4Name', 't2_champ5Name', 't2_towerKills', 't2_inhibitorKills', 't2_baronKills', 't2_dragonKills', 't2_riftHeraldKills', 't2_totalGold', 't2_totalLevel', 't2_avgLevel', 't2_totalMinionKills', 't2_totalJungleMinionKills', 't2_totalKills', 't2_totalDeath', 't2_totalAssist']"
   ]
  },
  {
   "cell_type": "code",
   "execution_count": 97,
   "id": "d34a6471",
   "metadata": {},
   "outputs": [
    {
     "name": "stdout",
     "output_type": "stream",
     "text": [
      "61\n"
     ]
    }
   ],
   "source": [
    "print(len(column_names))"
   ]
  },
  {
   "cell_type": "code",
   "execution_count": 98,
   "id": "a9322088",
   "metadata": {},
   "outputs": [
    {
     "data": {
      "text/html": [
       "<div>\n",
       "<style scoped>\n",
       "    .dataframe tbody tr th:only-of-type {\n",
       "        vertical-align: middle;\n",
       "    }\n",
       "\n",
       "    .dataframe tbody tr th {\n",
       "        vertical-align: top;\n",
       "    }\n",
       "\n",
       "    .dataframe thead th {\n",
       "        text-align: right;\n",
       "    }\n",
       "</style>\n",
       "<table border=\"1\" class=\"dataframe\">\n",
       "  <thead>\n",
       "    <tr style=\"text-align: right;\">\n",
       "      <th></th>\n",
       "      <th>gameId</th>\n",
       "      <th>creationTime</th>\n",
       "      <th>gameDuration</th>\n",
       "      <th>seasonId</th>\n",
       "      <th>winner</th>\n",
       "      <th>firstBlood</th>\n",
       "      <th>firstTower</th>\n",
       "      <th>firstInhibitor</th>\n",
       "      <th>firstBaron</th>\n",
       "      <th>firstDragon</th>\n",
       "      <th>...</th>\n",
       "      <th>t2_towerKills</th>\n",
       "      <th>t2_inhibitorKills</th>\n",
       "      <th>t2_baronKills</th>\n",
       "      <th>t2_dragonKills</th>\n",
       "      <th>t2_riftHeraldKills</th>\n",
       "      <th>t2_ban1</th>\n",
       "      <th>t2_ban2</th>\n",
       "      <th>t2_ban3</th>\n",
       "      <th>t2_ban4</th>\n",
       "      <th>t2_ban5</th>\n",
       "    </tr>\n",
       "  </thead>\n",
       "  <tbody>\n",
       "  </tbody>\n",
       "</table>\n",
       "<p>0 rows × 61 columns</p>\n",
       "</div>"
      ],
      "text/plain": [
       "Empty DataFrame\n",
       "Columns: [gameId, creationTime, gameDuration, seasonId, winner, firstBlood, firstTower, firstInhibitor, firstBaron, firstDragon, firstRiftHerald, t1_champ1id, t1_champ1_sum1, t1_champ1_sum2, t1_champ2id, t1_champ2_sum1, t1_champ2_sum2, t1_champ3id, t1_champ3_sum1, t1_champ3_sum2, t1_champ4id, t1_champ4_sum1, t1_champ4_sum2, t1_champ5id, t1_champ5_sum1, t1_champ5_sum2, t1_towerKills, t1_inhibitorKills, t1_baronKills, t1_dragonKills, t1_riftHeraldKills, t1_ban1, t1_ban2, t1_ban3, t1_ban4, t1_ban5, t2_champ1id, t2_champ1_sum1, t2_champ1_sum2, t2_champ2id, t2_champ2_sum1, t2_champ2_sum2, t2_champ3id, t2_champ3_sum1, t2_champ3_sum2, t2_champ4id, t2_champ4_sum1, t2_champ4_sum2, t2_champ5id, t2_champ5_sum1, t2_champ5_sum2, t2_towerKills, t2_inhibitorKills, t2_baronKills, t2_dragonKills, t2_riftHeraldKills, t2_ban1, t2_ban2, t2_ban3, t2_ban4, t2_ban5]\n",
       "Index: []\n",
       "\n",
       "[0 rows x 61 columns]"
      ]
     },
     "execution_count": 98,
     "metadata": {},
     "output_type": "execute_result"
    }
   ],
   "source": [
    "df = pd.DataFrame(columns=column_names)\n",
    "df"
   ]
  },
  {
   "cell_type": "code",
   "execution_count": 99,
   "id": "2df5bb6d",
   "metadata": {},
   "outputs": [],
   "source": [
    "def get_first_blood_team(info):\n",
    "    for participant in match['info']['participants']:\n",
    "        if participant[\"firstBloodKill\"]:\n",
    "            # Find the first blood then return the team number.\n",
    "            # The return value matches the teams' order in info['teams']\n",
    "            if participant['teamId'] == info['teams'][0]['teamId']:\n",
    "                return 1\n",
    "            else:\n",
    "                return 2\n",
    "    # No first blood in current match.\n",
    "    return 0"
   ]
  },
  {
   "cell_type": "code",
   "execution_count": 100,
   "id": "ac02f479",
   "metadata": {},
   "outputs": [],
   "source": [
    "def get_first_tower_team(info):\n",
    "    for participant in match['info']['participants']:\n",
    "        if participant[\"firstTowerKill\"]:\n",
    "            # Find the first tower then return the team number.\n",
    "            # The return value matches the teams' order in info['teams']\n",
    "            if participant['teamId'] == info['teams'][0]['teamId']:\n",
    "                return 1\n",
    "            else:\n",
    "                return 2\n",
    "    # No first blood in current match.\n",
    "    return 0"
   ]
  },
  {
   "cell_type": "code",
   "execution_count": 101,
   "id": "93db1deb",
   "metadata": {},
   "outputs": [],
   "source": [
    "def get_first_inhibitor_team(info):\n",
    "    # 1 = team1, 2 = team2, 0 = none\n",
    "    if info['teams'][0]['objectives']['inhibitor']['first']:\n",
    "        return 1\n",
    "    elif info['teams'][1]['objectives']['inhibitor']['first']:\n",
    "        return 2\n",
    "    else:\n",
    "        return 0"
   ]
  },
  {
   "cell_type": "code",
   "execution_count": 102,
   "id": "73f10c64",
   "metadata": {},
   "outputs": [],
   "source": [
    "def get_first_baron_team(info):\n",
    "    # 1 = team1, 2 = team2, 0 = none\n",
    "    if info['teams'][0]['objectives']['baron']['first']:\n",
    "        return 1\n",
    "    elif info['teams'][1]['objectives']['baron']['first']:\n",
    "        return 2\n",
    "    else:\n",
    "        return 0"
   ]
  },
  {
   "cell_type": "code",
   "execution_count": 103,
   "id": "53225a48",
   "metadata": {},
   "outputs": [],
   "source": [
    "def get_first_dragon_team(info):\n",
    "    # 1 = team1, 2 = team2, 0 = none\n",
    "    if info['teams'][0]['objectives']['dragon']['first']:\n",
    "        return 1\n",
    "    elif info['teams'][1]['objectives']['dragon']['first']:\n",
    "        return 2\n",
    "    else:\n",
    "        return 0"
   ]
  },
  {
   "cell_type": "code",
   "execution_count": 104,
   "id": "806b7665",
   "metadata": {},
   "outputs": [],
   "source": [
    "def get_first_rift_herald_team(info):\n",
    "    # 1 = team1, 2 = team2, 0 = none\n",
    "    if info['teams'][0]['objectives']['riftHerald']['first']:\n",
    "        return 1\n",
    "    elif info['teams'][1]['objectives']['riftHerald']['first']:\n",
    "        return 2\n",
    "    else:\n",
    "        return 0"
   ]
  },
  {
   "cell_type": "code",
   "execution_count": 90,
   "id": "306383f8",
   "metadata": {},
   "outputs": [
    {
     "data": {
      "text/html": [
       "<div>\n",
       "<style scoped>\n",
       "    .dataframe tbody tr th:only-of-type {\n",
       "        vertical-align: middle;\n",
       "    }\n",
       "\n",
       "    .dataframe tbody tr th {\n",
       "        vertical-align: top;\n",
       "    }\n",
       "\n",
       "    .dataframe thead th {\n",
       "        text-align: right;\n",
       "    }\n",
       "</style>\n",
       "<table border=\"1\" class=\"dataframe\">\n",
       "  <thead>\n",
       "    <tr style=\"text-align: right;\">\n",
       "      <th></th>\n",
       "      <th>gameId</th>\n",
       "      <th>creationTime</th>\n",
       "      <th>gameDuration</th>\n",
       "      <th>seasonId</th>\n",
       "      <th>winner</th>\n",
       "      <th>firstBlood</th>\n",
       "      <th>firstTower</th>\n",
       "      <th>firstInhibitor</th>\n",
       "      <th>firstBaron</th>\n",
       "      <th>firstDragon</th>\n",
       "      <th>...</th>\n",
       "      <th>t2_towerKills</th>\n",
       "      <th>t2_inhibitorKills</th>\n",
       "      <th>t2_baronKills</th>\n",
       "      <th>t2_dragonKills</th>\n",
       "      <th>t2_riftHeraldKills</th>\n",
       "      <th>t2_ban1</th>\n",
       "      <th>t2_ban2</th>\n",
       "      <th>t2_ban3</th>\n",
       "      <th>t2_ban4</th>\n",
       "      <th>t2_ban5</th>\n",
       "    </tr>\n",
       "  </thead>\n",
       "  <tbody>\n",
       "    <tr>\n",
       "      <th>0</th>\n",
       "      <td>4828636118</td>\n",
       "      <td>1699843165613</td>\n",
       "      <td>1812</td>\n",
       "      <td>13</td>\n",
       "      <td>1</td>\n",
       "      <td>1</td>\n",
       "      <td>1</td>\n",
       "      <td>1</td>\n",
       "      <td>1</td>\n",
       "      <td>2</td>\n",
       "      <td>...</td>\n",
       "      <td>0</td>\n",
       "      <td>0</td>\n",
       "      <td>0</td>\n",
       "      <td>1</td>\n",
       "      <td>0</td>\n",
       "      <td>85</td>\n",
       "      <td>119</td>\n",
       "      <td>897</td>\n",
       "      <td>203</td>\n",
       "      <td>238</td>\n",
       "    </tr>\n",
       "    <tr>\n",
       "      <th>1</th>\n",
       "      <td>4828575524</td>\n",
       "      <td>1699840199497</td>\n",
       "      <td>1515</td>\n",
       "      <td>13</td>\n",
       "      <td>2</td>\n",
       "      <td>2</td>\n",
       "      <td>2</td>\n",
       "      <td>2</td>\n",
       "      <td>2</td>\n",
       "      <td>2</td>\n",
       "      <td>...</td>\n",
       "      <td>8</td>\n",
       "      <td>1</td>\n",
       "      <td>1</td>\n",
       "      <td>2</td>\n",
       "      <td>2</td>\n",
       "      <td>59</td>\n",
       "      <td>122</td>\n",
       "      <td>-1</td>\n",
       "      <td>142</td>\n",
       "      <td>119</td>\n",
       "    </tr>\n",
       "  </tbody>\n",
       "</table>\n",
       "<p>2 rows × 61 columns</p>\n",
       "</div>"
      ],
      "text/plain": [
       "       gameId   creationTime gameDuration seasonId winner firstBlood  \\\n",
       "0  4828636118  1699843165613         1812       13      1          1   \n",
       "1  4828575524  1699840199497         1515       13      2          2   \n",
       "\n",
       "  firstTower firstInhibitor firstBaron firstDragon  ... t2_towerKills  \\\n",
       "0          1              1          1           2  ...             0   \n",
       "1          2              2          2           2  ...             8   \n",
       "\n",
       "  t2_inhibitorKills t2_baronKills t2_dragonKills t2_riftHeraldKills t2_ban1  \\\n",
       "0                 0             0              1                  0      85   \n",
       "1                 1             1              2                  2      59   \n",
       "\n",
       "  t2_ban2 t2_ban3 t2_ban4 t2_ban5  \n",
       "0     119     897     203     238  \n",
       "1     122      -1     142     119  \n",
       "\n",
       "[2 rows x 61 columns]"
      ]
     },
     "execution_count": 90,
     "metadata": {},
     "output_type": "execute_result"
    }
   ],
   "source": [
    "new_rows = []\n",
    "\n",
    "for match in extracted:\n",
    "    \n",
    "    if match['info']['gameDuration'] < 15 * 60:\n",
    "        continue \n",
    "\n",
    "    # Find the winner for current match\n",
    "    if match['info']['teams'][0]['win']:\n",
    "        winner = 1\n",
    "    else:\n",
    "        winner = 2\n",
    "        \n",
    "    new_row = {\n",
    "        'gameId': match['info']['gameId'],\n",
    "        'winner': winner,\n",
    "        'firstBlood': get_first_blood_team(match['info']),\n",
    "        'firstTower': get_first_tower_team(match['info']),\n",
    "        'firstInhibitor': get_first_inhibitor_team(match['info']),\n",
    "        'firstBaron': get_first_baron_team(match['info']),\n",
    "        'firstDragon': get_first_dragon_team(match['info']),\n",
    "        'firstRiftHerald': get_first_rift_herald_team(match['info']),\n",
    "    }\n",
    "    \n",
    "    # Initialize team-wise aggregated stats\n",
    "    team_stats = {\n",
    "        't1': {'totalGold': 0, 'totalLevel': 0, 'totalMinionKills': 0, 'totalJungleMinionKills': 0, 'totalDeath': 0, 'totalAssist': 0},\n",
    "        't2': {'totalGold': 0, 'totalLevel': 0, 'totalMinionKills': 0, 'totalJungleMinionKills': 0, 'totalDeath': 0, 'totalAssist': 0}\n",
    "    }\n",
    "    \n",
    "    # Create champion columns -- 30 columns in total\n",
    "    team_participant_count = {match['info']['teams'][0]['teamId']: 0, match['info']['teams'][1]['teamId']: 0}\n",
    "    for participant in match['info']['participants']:\n",
    "        team_id = 't1' if participant['teamId'] == match['info']['teams'][0]['teamId'] else 't2'\n",
    "        \n",
    "        team_participant_count[participant['teamId']] += 1\n",
    "        player_num = team_participant_count[participant['teamId']]\n",
    "        \n",
    "        team_stats[team_id]['totalGold'] += participant['goldEarned']\n",
    "        team_stats[team_id]['totalLevel'] += participant['champLevel']\n",
    "        team_stats[team_id]['totalMinionKills'] += participant['totalMinionsKilled']\n",
    "        team_stats[team_id]['totalJungleMinionKills'] += participant['neutralMinionsKilled']\n",
    "        team_stats[team_id]['totalDeath'] += participant['deaths']\n",
    "        team_stats[team_id]['totalAssist'] += participant['assists']\n",
    "        \n",
    "        # Champion and summoner spells\n",
    "        new_row[f'{team_id}_champ{player_num}Name'] = participant['championName']\n",
    "\n",
    "    # Create objectives columns(5 columns) and bans columns(5 columns) for two teams -- 10 columns for each team\n",
    "    for index, team in enumerate(match['info']['teams']):\n",
    "        team_id = f't{index + 1}'\n",
    "        \n",
    "        # objective columns\n",
    "        new_row[f'{team_id}_towerKills'] = team['objectives']['tower']['kills']\n",
    "        new_row[f'{team_id}_inhibitorKills'] = team['objectives']['inhibitor']['kills']\n",
    "        new_row[f'{team_id}_baronKills'] = team['objectives']['baron']['kills']\n",
    "        new_row[f'{team_id}_dragonKills'] = team['objectives']['dragon']['kills']\n",
    "        new_row[f'{team_id}_riftHeraldKills'] = team['objectives']['riftHerald']['kills']\n",
    "        new_row[f'{team_id}_totalKills'] = team['objectives']['champion']['kills']\n",
    "        new_row[f'{team_id}_totalGold'] = team_stats[team_id]['totalGold']\n",
    "        new_row[f'{team_id}_totalLevel'] = team_stats[team_id]['totalLevel']\n",
    "        new_row[f'{team_id}_avgLevel'] = team_stats[team_id]['totalLevel'] / 5  # Assuming 5 players per team\n",
    "        new_row[f'{team_id}_totalMinionKills'] = team_stats[team_id]['totalMinionKills']\n",
    "        new_row[f'{team_id}_totalJungleMinionKills'] = team_stats[team_id]['totalJungleMinionKills']\n",
    "        new_row[f'{team_id}_totalDeath'] = team_stats[team_id]['totalDeath']\n",
    "        new_row[f'{team_id}_totalAssist'] = team_stats[team_id]['totalAssist']\n",
    "\n",
    "    new_rows.append(new_row)"
   ]
  },
  {
   "cell_type": "code",
   "execution_count": null,
   "id": "0cb21a8e",
   "metadata": {},
   "outputs": [],
   "source": [
    "df = pd.concat([df, pd.DataFrame(new_rows)], ignore_index=True)\n",
    "df"
   ]
  },
  {
   "cell_type": "code",
   "execution_count": null,
   "id": "6b9ebc28",
   "metadata": {},
   "outputs": [],
   "source": [
    "pd.set_option('display.max_columns', None)\n",
    "df.head()"
   ]
  },
  {
   "cell_type": "code",
   "execution_count": null,
   "id": "0dc41163",
   "metadata": {},
   "outputs": [],
   "source": [
    "len(df)"
   ]
  },
  {
   "cell_type": "code",
   "execution_count": null,
   "id": "a6df6838",
   "metadata": {},
   "outputs": [],
   "source": [
    "df.drop_duplicates(subset='gameId', keep='first', inplace=True)"
   ]
  },
  {
   "cell_type": "code",
   "execution_count": null,
   "id": "03599ac0",
   "metadata": {},
   "outputs": [],
   "source": [
    "df.to_csv('./match_data_final.csv', index=False)"
   ]
  }
 ],
 "metadata": {
  "kernelspec": {
   "display_name": "Python 3 (ipykernel)",
   "language": "python",
   "name": "python3"
  },
  "language_info": {
   "codemirror_mode": {
    "name": "ipython",
    "version": 3
   },
   "file_extension": ".py",
   "mimetype": "text/x-python",
   "name": "python",
   "nbconvert_exporter": "python",
   "pygments_lexer": "ipython3",
   "version": "3.10.11"
  }
 },
 "nbformat": 4,
 "nbformat_minor": 5
}
